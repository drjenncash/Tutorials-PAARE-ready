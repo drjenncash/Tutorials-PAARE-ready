{
 "cells": [
  {
   "cell_type": "markdown",
   "id": "a8539573-1ddf-4b7c-98d6-3aa1a8a2e705",
   "metadata": {},
   "source": [
    "# Tutorial 0: Jupyter Notebooks"
   ]
  },
  {
   "cell_type": "markdown",
   "id": "280e11f7-6de3-45c7-8d8b-1531d407079b",
   "metadata": {},
   "source": [
    "Sections of this notebook comes from several other tutorial notebooks including but not limited to the LSST introduction on the Rubin Science Platform, the Krittika Tutorial's, and several websites. "
   ]
  },
  {
   "cell_type": "markdown",
   "id": "c3f9aaf3-6d56-4753-9460-eae04b589f1e",
   "metadata": {
    "tags": []
   },
   "source": [
    "## 1.0. Introduction\n",
    "\n",
    "This Jupyter Notebook provides an introduction to how notebooks work. It demonstrates how to execute code and markdown text cells, how to import Python packages and learn about their modules, and provides links to further documentation.\n",
    "\n",
    "For those who may move on to the Rubin Science Platform will need to use Notebooks there. This tutorial can be run without the Rubin Science Platform but will occasionally mention additional aspects related to it. \n"
   ]
  },
  {
   "cell_type": "markdown",
   "id": "4cc30108-b980-4c2f-9fe8-7543ec22d1d2",
   "metadata": {},
   "source": [
    "## 1.1 Why Python?\n",
    "\n",
    "Python is a programming language commonly used in Data Science. The Codedfinity website lists \"10 reasons to Learn Python\", here I share just a few:\n",
    "\n",
    "* Ease of Learning, pretty straight forward and the code makes sense\n",
    "* Versatility, it can be used for quite a few different things\n",
    "* Community and Support, lots of people are working with Python and lots of forums to get help\n",
    "\n",
    "Python can be run interactively or with scripts. The software to run Python is typically contained within a development environment. These development environments must be installed on the computer for you to run the Python code you create. Fortunately, the development environment is typically open-source, free software that can run on various computer operating systems.\n",
    "\n",
    "  "
   ]
  },
  {
   "cell_type": "markdown",
   "id": "ea72b945",
   "metadata": {},
   "source": [
    "## 1.2 Why use a Notebook?\n",
    "\n",
    "Jupyter-notebooks provide a way to integrate code and documentation together within a web-based development environment. These tutorials aare an example of how the text documentation combined with the code provides a convenient teaching platform where the code can be run right alongside the explanation.\n",
    "\n",
    "For Data Science, the notebook format allows you to explore the data you are trying to analyze with output graphs and tables right next to the code. The notebook can then be easily shared with other researchers who can run the same code, make small changes, or explore different options in the analysis. \n",
    "\n",
    "While you could run a Jupyter notebook on your computer if you have Python installed, you could also connect via a web-browser to a Jupyter server somewhere else on the internet. This allows people to easily interact with code from any computer. \n",
    "\n",
    "Jupyter notebooks are one way that users of the Rubin Science Platform can access and analyze data from the LSST. Because the code is running on the Jupyter server at the RSP, the vast data sets can be accessed without having to download the data to your local computer"
   ]
  },
  {
   "cell_type": "markdown",
   "id": "08ae66af-cbb8-4e06-b51f-b7a268fa5e41",
   "metadata": {
    "tags": []
   },
   "source": [
    "## 2.0. How to use a Jupyter Notebook\n",
    "\n",
    "Jupyter Notebooks contain a mix of code, output, visualizations, and narrative text. The most comprehensive source for documentation about Jupyter Notebooks is https://jupyter-notebook.readthedocs.io, but there are many great beginner-level tutorials and demos out there. Usually a web search of a question, like \"how to make a table in markdown jupyter notebook\", will yield several good examples. Often the answers will be found in <a href=\"https://stackoverflow.com/\">StackOverflow</a>.\n",
    "\n",
    "A Jupyter Notebook is a series of cells. There are three types of cells: code, markdown, and raw. This text was generated from a markdown cell. Up in the menu bar you will find a drop-down menu to set the cell type."
   ]
  },
  {
   "cell_type": "markdown",
   "id": "7842b9ac-d5e7-40ca-a4c7-5adb2cddbbad",
   "metadata": {},
   "source": [
    "> **Warning:** All of the code cells in a notebook should be executed in the order that they appear, unless specifically instructed to do otherwise. "
   ]
  },
  {
   "cell_type": "markdown",
   "id": "4bbca34e-e40c-4a7e-8656-d98c7dd3338c",
   "metadata": {},
   "source": [
    "### 2.1 Code cells\n",
    "Click in the following code cell: with the cursor in the cell, simultaneously press \"shift\" and \"enter\" (or \"return\") to execute the cell code."
   ]
  },
  {
   "cell_type": "code",
   "execution_count": 1,
   "id": "3243cab0-b557-404b-8650-d71f9595311e",
   "metadata": {
    "tags": []
   },
   "outputs": [
    {
     "name": "stdout",
     "output_type": "stream",
     "text": [
      "Hello, world!\n"
     ]
    }
   ],
   "source": [
    "# This is a code cell. Press shift-enter to execute.\n",
    "# The # makes these lines comments, not code. They are not executed.\n",
    "print('Hello, world!')"
   ]
  },
  {
   "cell_type": "markdown",
   "id": "ea7c8622-8f0b-4a5e-bb1a-00e5a3387d81",
   "metadata": {},
   "source": [
    "### 2.2 Markdown Cells\n",
    "\n",
    "Markdown cells contain formatted text. This can make the notebook easier to read and understand. \n",
    "\n",
    "These cells can be executed to display the formatted text"
   ]
  },
  {
   "cell_type": "markdown",
   "id": "c461e197",
   "metadata": {},
   "source": [
    "\n",
    "<!---\n",
    "This is a markdown cell.\n",
    "Press shift-enter to execute, and see the formatted text reappear.\n",
    "-->\n",
    "\n",
    "Double click on THESE WORDS IN THIS MARKDOWN CELL to see the markdown source code."
   ]
  },
  {
   "cell_type": "markdown",
   "id": "5244370a-7cae-4f0e-8ea4-5b30f0ae6e50",
   "metadata": {},
   "source": [
    "These markdown cells can contain a variety of text formatting options that are beyond the scope of this tutorial. You can easily web search for \"Jupyter notebook markdown\" to learn more. "
   ]
  },
  {
   "cell_type": "markdown",
   "id": "81512eba",
   "metadata": {},
   "source": [
    "### 2.3 Raw Cells\n",
    "\n",
    "Raw cells don't execute"
   ]
  },
  {
   "cell_type": "raw",
   "id": "a5fc1844-0d0b-4d38-883c-bc19bda999e8",
   "metadata": {
    "tags": []
   },
   "source": [
    "# This is a raw cell. You can press shift-enter, but nothing will execute.\n",
    "# The # symbol does not mean anything in a raw cell.\n",
    "print('Hello, world!')"
   ]
  },
  {
   "cell_type": "markdown",
   "id": "391d92e5-027b-4ea1-b555-52de12b39d39",
   "metadata": {},
   "source": [
    "\n",
    "For more information on navigating and using Jupyter notesbooks, refer to the website below\n",
    "\n",
    "https://www.dataquest.io/blog/jupyter-notebook-tutorial/"
   ]
  },
  {
   "cell_type": "markdown",
   "id": "691921f8-53f6-4152-914f-71bdeecf3cfe",
   "metadata": {},
   "source": [
    "### 2.4 Code Cell Execution\n",
    "\n",
    "When you executed the code cell in section 2.1, a number should have appeared to the left side of the code cell enclosed in square brackets. It probably says [1]: or something similar.\n",
    "\n",
    "A code cell that has not been executed will typically have empty brackets [ ]: \n",
    "A code cell that the computer is in the process of running will typically have [*]:\n",
    "\n",
    "Look at the code cells above and below to see how they appear before proceeding.\n"
   ]
  },
  {
   "cell_type": "code",
   "execution_count": 2,
   "id": "f0fba9d2-95df-42dd-a93c-e581358f8592",
   "metadata": {},
   "outputs": [],
   "source": [
    "# Look at the brackets to the left of the cell \n",
    "# Then execute this cell by hitting shift-enter while the cell is highlighted\n",
    "a = 5"
   ]
  },
  {
   "cell_type": "markdown",
   "id": "5696a492-359a-4b27-b73c-fc91af285d03",
   "metadata": {},
   "source": [
    "If you click on the code cell above and hit the shift-enter again, the code in that cell will be executed again and the number in the brackets will increase. This helps you to keep track of what code has been run.\n",
    "\n",
    "If you click on the code cell again and make a change, the brackets should change to show that the new code has not been run. In my jupyter servers, it changes to an orange color and the brackets now have an asterisk in front (such as <font color=\"orange\"> *[4] </font>)\n",
    "\n",
    "\n",
    "Try a few changes to the line above, execute the lines below and then the line above in different orders"
   ]
  },
  {
   "cell_type": "code",
   "execution_count": 3,
   "id": "3f67047a-1b45-495f-8b06-4a95e81d4878",
   "metadata": {},
   "outputs": [],
   "source": [
    "#execute this code cell by hitting shift-enter while the cell is highlighted\n",
    "b = 2"
   ]
  },
  {
   "cell_type": "markdown",
   "id": "bc37cb72-5970-4767-a3f6-d5a7f0284076",
   "metadata": {},
   "source": [
    "\n",
    "Some code cells not only execute code but also return an output. \n",
    "\n",
    "When this happens, the output will appear directly below the code cell after it is executed. \n"
   ]
  },
  {
   "cell_type": "code",
   "execution_count": 4,
   "id": "d21629f3-f93c-4564-b32e-127549fc6d1f",
   "metadata": {},
   "outputs": [
    {
     "data": {
      "text/plain": [
       "3"
      ]
     },
     "execution_count": 4,
     "metadata": {},
     "output_type": "execute_result"
    }
   ],
   "source": [
    "#execute this code cell by hitting shift-enter while the cell is highlighted\n",
    "1+2\n",
    "\n",
    "#change the numbers above and see what is shown below"
   ]
  },
  {
   "cell_type": "markdown",
   "id": "13f846f2-acd2-4056-9a34-63bda55ad64c",
   "metadata": {},
   "source": [
    "When a code cell has returned an output, the output line shows the same bracketed number as the code cell that generated it. \n",
    "\n",
    "When you highlight an executed code cell with output, you will see that the blue highlight bar to the left of the cell shows both the code cell and the output. \n",
    "\n",
    "This will be very helpful when we have longer code cells that return a larger amount of output data or charts. "
   ]
  },
  {
   "cell_type": "markdown",
   "id": "0d0f1d2f-31e0-47e7-bd99-fa3043fd9ca0",
   "metadata": {
    "tags": []
   },
   "source": [
    "### 2.5. Jupyter Notebooks Quick How-Tos\n",
    "\n",
    "**How to quickly execute all the cells:** \n",
    "Go to the top menu bar and select \"Kernel\", then \"Restart Kernel and Run All Cells\".\n",
    "\n",
    "**How to emergency-stop a notebook:** \n",
    "If a code cell is taking a long time to execute (e.g., if a process to retrieve an entire catalog was started by accident)\n",
    "kill it by going to \"Kernel\" in the top menu bar and selecting \"Restart Kernel and Clear All Outputs\".\n",
    "It might still a few tens of seconds, but it will stop the process and restart the kernel.\n",
    "\n",
    "**The kernel** is the computational engine for the notebook (the RSP uses a `python3` kernel),\n",
    "and can be thought of as a live compiler. \n",
    "Restarting the kernel and clearning all outputs means that all defined variables or functions are removed from memory, \n",
    "and all code cells revert to an \"unexecuted\" state.\n",
    "\n",
    "> <font color= \"purple\"> On the Rubin Science Platform you will also be able to use the following Quick tools. </font>\n",
    "\n",
    "**How to view a table of contents for this notebook:** \n",
    "Click on the icon of a bullet list in the leftmost vertical menu bar, and an automatically-generated ToC will appear at left. \n",
    "Click on the icon of the file folder at the top of the leftmost vertical menu bar to return to a directory view.\n",
    "\n",
    "**How to know which version of the kernel is running:** \n",
    "Look along the bottom bar of this browser window, and find the version of the kernel.\n",
    "It is probably \"anaconda-...\", and it should match the verified version listed in the notebook's header. "
   ]
  },
  {
   "cell_type": "markdown",
   "id": "5369f1e1-9271-450c-b039-61ff7b0a8630",
   "metadata": {
    "tags": []
   },
   "source": [
    "## 3.0. Package Imports\n",
    "\n",
    "Most Jupyter Notebooks start out by importing all the packages they will need in the first code cell. \n",
    "\n",
    "Imports only need to be run once at the start of a tutorial notebook. If you restart a kernel, you will need to rerun the package imports.\n",
    "\n",
    "\n",
    "Knowledge of these packages is not required in order to complete this tutorial, but here is a bit of basic information and some links for further learning.\n",
    "\n",
    "**numpy**: A fundamental package for scientific computing with arrays in Python. Its comprehensive documentation is available at <a href=\"https://numpy.org\">numpy.org</a>, and it includes quickstart beginner guides. (The numpy package is not used in this notebook, but is imported as a demonstration because it is a very commonly-used package.) <br>\n",
    "\n",
    "**matplotlib**: This package is a comprehensive library for creating static, animated, and interactive visualizations in Python. Its comprehensive documentation is at <a href=\"https://matplotlib.org/\">matplotlib.org</a>. The <a href=\"https://matplotlib.org/stable/gallery/index.html\">matplotlib gallery</a> is a great place to start and links to examples. <br>\n",
    " \n",
    "**pandas**: A package which allows users to deal efficiently with tabular data in dataframes. Learn more in the <a href=\"https://pandas.pydata.org/docs/reference/api/pandas.DataFrame.html\">Pandas documentation</a>. <br>\n",
    "\n",
    "**astropy**: A Python package of useful astronomy tools. Learn more in the <a href=\"http://docs.astropy.org/en/stable/_modules/astropy/table/table.html\">astropy documentation</a>.\n",
    " \n",
    "\n",
    "Package imports are covered in more detail in future tutorial notebooks"
   ]
  },
  {
   "cell_type": "markdown",
   "id": "eb8f9e40-029a-4489-95f5-08663ff96304",
   "metadata": {},
   "source": [
    "Import some of the packages commonly used in notebook by executing the following cell."
   ]
  },
  {
   "cell_type": "code",
   "execution_count": 5,
   "id": "e539e6c2-0fc0-4963-8754-b3dfcf96646a",
   "metadata": {
    "tags": []
   },
   "outputs": [],
   "source": [
    "import numpy\n",
    "import matplotlib\n",
    "import matplotlib.pyplot as plt\n",
    "import pandas"
   ]
  },
  {
   "cell_type": "markdown",
   "id": "ba6e581f-2117-435f-a9fa-a4a75b72d371",
   "metadata": {},
   "source": [
    "If you have an error on the imports, such as you misspelled a package name or it is not available on your platform, you will get a ModuleNotFoundError as demonstrated in the cell below."
   ]
  },
  {
   "cell_type": "code",
   "execution_count": 2,
   "id": "91122e54-ba05-4e7d-9a4a-9bfe20b1e022",
   "metadata": {},
   "outputs": [
    {
     "ename": "ModuleNotFoundError",
     "evalue": "No module named 'nonsense'",
     "output_type": "error",
     "traceback": [
      "\u001b[0;31m---------------------------------------------------------------------------\u001b[0m",
      "\u001b[0;31mModuleNotFoundError\u001b[0m                       Traceback (most recent call last)",
      "Cell \u001b[0;32mIn[2], line 1\u001b[0m\n\u001b[0;32m----> 1\u001b[0m \u001b[38;5;28;01mimport\u001b[39;00m \u001b[38;5;21;01mnonsense\u001b[39;00m\n",
      "\u001b[0;31mModuleNotFoundError\u001b[0m: No module named 'nonsense'"
     ]
    }
   ],
   "source": [
    "import nonsense"
   ]
  },
  {
   "cell_type": "code",
   "execution_count": null,
   "id": "0b1535b5-32f8-428f-8231-d33ba1f3b849",
   "metadata": {},
   "outputs": [],
   "source": []
  }
 ],
 "metadata": {
  "kernelspec": {
   "display_name": "Python 3 (ipykernel)",
   "language": "python",
   "name": "python3"
  },
  "language_info": {
   "codemirror_mode": {
    "name": "ipython",
    "version": 3
   },
   "file_extension": ".py",
   "mimetype": "text/x-python",
   "name": "python",
   "nbconvert_exporter": "python",
   "pygments_lexer": "ipython3",
   "version": "3.9.19"
  }
 },
 "nbformat": 4,
 "nbformat_minor": 5
}
