{
 "cells": [
  {
   "cell_type": "markdown",
   "id": "e58d02f5",
   "metadata": {},
   "source": [
    "# Tutorial 1a: Data Types in Python"
   ]
  },
  {
   "cell_type": "markdown",
   "id": "eca10907",
   "metadata": {},
   "source": [
    "# 1.0) Overview\n",
    "\n",
    "In any programming language, you will be working with data that the computer is using as it processes your command. The data might be numbers, characters, words, true/false values, or collections of these.\r\n",
    "\r\n",
    "As  frirst step in programming, you need to learn the difference between these types and how your programming language deals with each type. You also need to learn the specific syntax and assumptions the program will make when it deals tirh different data types.\r\n",
    "\r\n",
    "In this tutorial, you will work through some simple examples of each data type. Read the text that goes with each section. In general, assume that you should work through the tutorial in the order presented to make sure that everything is defined before it sed.is u\n",
    "\n",
    "** Note: if you have no experience programming, and have not completed tutorial 0, please go back and complete that prior to bnegining this notebook/tutorial. sed."
   ]
  },
  {
   "cell_type": "markdown",
   "id": "a38285b6",
   "metadata": {},
   "source": [
    "### 1.1) Imports needed\n",
    "\n",
    "It is always bets practice to import the needed packages at the very top of the notebook. As a notebook is developed, you can always add to or take away from that cell. \n",
    "\n",
    "The cell should always be run before any ther cells in the notebook and right after any changes to the import lists are given. "
   ]
  },
  {
   "cell_type": "code",
   "execution_count": 146,
   "id": "371a9388",
   "metadata": {},
   "outputs": [],
   "source": [
    "import numpy as np"
   ]
  },
  {
   "cell_type": "markdown",
   "id": "dd398774",
   "metadata": {},
   "source": [
    "### 1.2) Two useful functions\n",
    "\n",
    "To get information on data, we can use two built in functions that will work on a wide variety of data types. \n",
    "\n",
    "print() returns the contents of the () to the standard output, \n",
    "\n",
    "type() is used to let us know what the data type is for the quantity in the ()\n",
    "\n",
    "Try these out for yourself on a few very basic items"
   ]
  },
  {
   "cell_type": "code",
   "execution_count": 2,
   "id": "14fe5b0a",
   "metadata": {},
   "outputs": [
    {
     "data": {
      "text/plain": [
       "int"
      ]
     },
     "execution_count": 2,
     "metadata": {},
     "output_type": "execute_result"
    }
   ],
   "source": [
    "type(1)"
   ]
  },
  {
   "cell_type": "code",
   "execution_count": 3,
   "id": "1926275e",
   "metadata": {},
   "outputs": [
    {
     "name": "stdout",
     "output_type": "stream",
     "text": [
      "1\n"
     ]
    }
   ],
   "source": [
    "print(1)"
   ]
  },
  {
   "cell_type": "code",
   "execution_count": 4,
   "id": "68da7f14-6aa7-4abb-ba17-d0bb3b0186d3",
   "metadata": {},
   "outputs": [
    {
     "data": {
      "text/plain": [
       "float"
      ]
     },
     "execution_count": 4,
     "metadata": {},
     "output_type": "execute_result"
    }
   ],
   "source": [
    "type(1.0)"
   ]
  },
  {
   "cell_type": "code",
   "execution_count": 5,
   "id": "5319fc87",
   "metadata": {},
   "outputs": [
    {
     "data": {
      "text/plain": [
       "str"
      ]
     },
     "execution_count": 5,
     "metadata": {},
     "output_type": "execute_result"
    }
   ],
   "source": [
    "#We will learn more about strings in section 2.2 below.\n",
    "type('hello')"
   ]
  },
  {
   "cell_type": "code",
   "execution_count": 6,
   "id": "ab228541",
   "metadata": {},
   "outputs": [
    {
     "name": "stdout",
     "output_type": "stream",
     "text": [
      "hello\n"
     ]
    }
   ],
   "source": [
    "print('hello')"
   ]
  },
  {
   "cell_type": "code",
   "execution_count": 7,
   "id": "c4152e2c",
   "metadata": {},
   "outputs": [
    {
     "data": {
      "text/plain": [
       "int"
      ]
     },
     "execution_count": 7,
     "metadata": {},
     "output_type": "execute_result"
    }
   ],
   "source": [
    "#type() can also tell you the result of a mathematical calculation \n",
    "type(1+2)"
   ]
  },
  {
   "cell_type": "code",
   "execution_count": 8,
   "id": "2454e16a",
   "metadata": {},
   "outputs": [
    {
     "name": "stdout",
     "output_type": "stream",
     "text": [
      "3\n"
     ]
    }
   ],
   "source": [
    "#print() can do a calculation and tell you what the result is \n",
    "print(1+2)"
   ]
  },
  {
   "cell_type": "markdown",
   "id": "98046a89",
   "metadata": {},
   "source": [
    "**Combining the Commands**\n",
    "\n",
    "You can combine the print and type commands together. \n",
    "\n",
    "When you print the type() of a value, notice that the output looks a little different. Instead of just telling you the type it is a longer output with the data type enclosed in parenthesis with the class designation <class 'int'>. "
   ]
  },
  {
   "cell_type": "code",
   "execution_count": 9,
   "id": "3f35e2c6",
   "metadata": {},
   "outputs": [
    {
     "name": "stdout",
     "output_type": "stream",
     "text": [
      "<class 'int'>\n"
     ]
    }
   ],
   "source": [
    "print(type(1))"
   ]
  },
  {
   "cell_type": "markdown",
   "id": "cfd8a21b",
   "metadata": {},
   "source": [
    "If you have multiple print commands in the same cell, you will get outputs for each print statement in the order they were placed.\n"
   ]
  },
  {
   "cell_type": "code",
   "execution_count": 10,
   "id": "20a28987",
   "metadata": {},
   "outputs": [
    {
     "name": "stdout",
     "output_type": "stream",
     "text": [
      "1\n",
      "hello\n"
     ]
    }
   ],
   "source": [
    "print(1)\n",
    "print('hello')"
   ]
  },
  {
   "cell_type": "markdown",
   "id": "c6cf1043-2e0d-40c2-b30b-66bdfe9a738a",
   "metadata": {},
   "source": [
    "If you have multiple type commands in the same cell, only the final command will show up in the output. "
   ]
  },
  {
   "cell_type": "code",
   "execution_count": 11,
   "id": "88fd8e6f",
   "metadata": {},
   "outputs": [
    {
     "data": {
      "text/plain": [
       "str"
      ]
     },
     "execution_count": 11,
     "metadata": {},
     "output_type": "execute_result"
    }
   ],
   "source": [
    "type(1)\n",
    "type('hello')"
   ]
  },
  {
   "cell_type": "markdown",
   "id": "7622cd97-e2a7-4f4e-adbd-8c1636b91ab4",
   "metadata": {},
   "source": [
    "This is where the combined print and type can really help. "
   ]
  },
  {
   "cell_type": "code",
   "execution_count": 12,
   "id": "17b863ab",
   "metadata": {},
   "outputs": [
    {
     "name": "stdout",
     "output_type": "stream",
     "text": [
      "1\n",
      "<class 'int'>\n",
      "hello\n",
      "<class 'str'>\n"
     ]
    }
   ],
   "source": [
    "print(1)\n",
    "print(type(1))\n",
    "print('hello')\n",
    "print(type('hello'))"
   ]
  },
  {
   "cell_type": "markdown",
   "id": "bbb79f08-1a1c-41fb-a72e-621b8aec1d7f",
   "metadata": {},
   "source": [
    "**Multiple Prints and types**\n",
    "\n",
    "In a print statement, you can include more than one thing to be printed be separating them with commas. \n",
    "You cannot find find the type of more than one thing in the same command. \n",
    "\n",
    "But you can create a single print statement that checkes more than one type."
   ]
  },
  {
   "cell_type": "code",
   "execution_count": 13,
   "id": "e9d523ff-7410-4f39-a6ba-32dc6e1a6824",
   "metadata": {},
   "outputs": [
    {
     "name": "stdout",
     "output_type": "stream",
     "text": [
      "hello 1\n"
     ]
    }
   ],
   "source": [
    "#This command works\n",
    "print(\"hello\", 1)"
   ]
  },
  {
   "cell_type": "code",
   "execution_count": 14,
   "id": "c359fe06-011f-4faa-92b7-f6566397a89b",
   "metadata": {},
   "outputs": [
    {
     "ename": "TypeError",
     "evalue": "type() takes 1 or 3 arguments",
     "output_type": "error",
     "traceback": [
      "\u001b[0;31m---------------------------------------------------------------------------\u001b[0m",
      "\u001b[0;31mTypeError\u001b[0m                                 Traceback (most recent call last)",
      "Cell \u001b[0;32mIn[14], line 2\u001b[0m\n\u001b[1;32m      1\u001b[0m \u001b[38;5;66;03m#This command will give you a TypeError\u001b[39;00m\n\u001b[0;32m----> 2\u001b[0m \u001b[38;5;28;43mtype\u001b[39;49m\u001b[43m(\u001b[49m\u001b[38;5;124;43m\"\u001b[39;49m\u001b[38;5;124;43mhello\u001b[39;49m\u001b[38;5;124;43m\"\u001b[39;49m\u001b[43m,\u001b[49m\u001b[38;5;241;43m1\u001b[39;49m\u001b[43m)\u001b[49m\n",
      "\u001b[0;31mTypeError\u001b[0m: type() takes 1 or 3 arguments"
     ]
    }
   ],
   "source": [
    "#This command will give you a TypeError\n",
    "type(\"hello\",1)"
   ]
  },
  {
   "cell_type": "code",
   "execution_count": 15,
   "id": "bcc804f2-f38e-44f2-9054-56f3c5560a78",
   "metadata": {},
   "outputs": [
    {
     "name": "stdout",
     "output_type": "stream",
     "text": [
      "My number is: 1 with a type of: <class 'int'>\n"
     ]
    }
   ],
   "source": [
    "#This one works and makes the output make more sense\n",
    "print(\"My number is:\",1, \"with a type of:\", type(1))"
   ]
  },
  {
   "cell_type": "markdown",
   "id": "9b23b65d",
   "metadata": {},
   "source": [
    "# 2.0) Data Types"
   ]
  },
  {
   "cell_type": "markdown",
   "id": "81498c28",
   "metadata": {},
   "source": [
    "## 2.1) Numbers"
   ]
  },
  {
   "cell_type": "markdown",
   "id": "d9d573f5",
   "metadata": {},
   "source": [
    "**Integers**\n",
    "\n",
    "Integers are the same as mathematical integers -numbers with no decimal places. So values like 1 2, 4, 9, 16, 25, etc are considered integers. \n",
    "\n",
    "**Float**\n",
    "\n",
    "Numbers like 10.4, 2.39, .81, 1.96, etc. are all considered floats. \n",
    "\n",
    "Try out some of the examples below, and create your own cells to see for yourself. "
   ]
  },
  {
   "cell_type": "code",
   "execution_count": 16,
   "id": "382f8a29",
   "metadata": {},
   "outputs": [
    {
     "data": {
      "text/plain": [
       "int"
      ]
     },
     "execution_count": 16,
     "metadata": {},
     "output_type": "execute_result"
    }
   ],
   "source": [
    "type(1)"
   ]
  },
  {
   "cell_type": "code",
   "execution_count": 17,
   "id": "d87d19db",
   "metadata": {},
   "outputs": [
    {
     "data": {
      "text/plain": [
       "float"
      ]
     },
     "execution_count": 17,
     "metadata": {},
     "output_type": "execute_result"
    }
   ],
   "source": [
    "type(1.0) "
   ]
  },
  {
   "cell_type": "code",
   "execution_count": 18,
   "id": "e9cb420d-f20d-4530-952e-6b5b63a495e8",
   "metadata": {},
   "outputs": [
    {
     "data": {
      "text/plain": [
       "float"
      ]
     },
     "execution_count": 18,
     "metadata": {},
     "output_type": "execute_result"
    }
   ],
   "source": [
    "type(.5)"
   ]
  },
  {
   "cell_type": "code",
   "execution_count": 19,
   "id": "12e9bc21-ffe8-418e-82a0-b36976b8f824",
   "metadata": {},
   "outputs": [
    {
     "data": {
      "text/plain": [
       "float"
      ]
     },
     "execution_count": 19,
     "metadata": {},
     "output_type": "execute_result"
    }
   ],
   "source": [
    "type(1.)"
   ]
  },
  {
   "cell_type": "code",
   "execution_count": 20,
   "id": "978503ac-2b5c-4086-9bd1-44ed9298c20d",
   "metadata": {},
   "outputs": [
    {
     "data": {
      "text/plain": [
       "int"
      ]
     },
     "execution_count": 20,
     "metadata": {},
     "output_type": "execute_result"
    }
   ],
   "source": [
    "type(1+5)"
   ]
  },
  {
   "cell_type": "code",
   "execution_count": 21,
   "id": "0b5b065f-711c-47a0-8d78-f086376b9955",
   "metadata": {},
   "outputs": [
    {
     "data": {
      "text/plain": [
       "float"
      ]
     },
     "execution_count": 21,
     "metadata": {},
     "output_type": "execute_result"
    }
   ],
   "source": [
    "type(1.0+3.0)"
   ]
  },
  {
   "cell_type": "code",
   "execution_count": 22,
   "id": "7f0dc676-30f3-4cf1-92f6-95e11d599e7f",
   "metadata": {},
   "outputs": [
    {
     "data": {
      "text/plain": [
       "float"
      ]
     },
     "execution_count": 22,
     "metadata": {},
     "output_type": "execute_result"
    }
   ],
   "source": [
    "#notice what happens if you add an integer and a float, what type do you get? \n",
    "type(1+.5)"
   ]
  },
  {
   "cell_type": "markdown",
   "id": "e6ab9b85-a551-4db0-bdf8-ec28c06b195d",
   "metadata": {},
   "source": [
    "Below this cell, try some values on your own and see what type are. Maybe try combining int + float, and then float + int. "
   ]
  },
  {
   "cell_type": "code",
   "execution_count": null,
   "id": "f6b03e81-853e-4af0-a957-1a544adafb1b",
   "metadata": {},
   "outputs": [],
   "source": []
  },
  {
   "cell_type": "markdown",
   "id": "8be47645",
   "metadata": {},
   "source": [
    "## 2.2) Strings"
   ]
  },
  {
   "cell_type": "markdown",
   "id": "4c142cba",
   "metadata": {},
   "source": [
    "Strings are another form of data types. A String (str) is a set of characters pieced together to hold data. The len() function tells you how many characters are within a string. For example, the phrase \"Hello World\" is a string of 11 characters.  Even though the words \"Hello\" and \"World\" are both 5 characters each, strings count spaces as characters as well, thus \"Hello World\" has a length of 11 characters. "
   ]
  },
  {
   "cell_type": "code",
   "execution_count": 23,
   "id": "a3a47057",
   "metadata": {},
   "outputs": [
    {
     "data": {
      "text/plain": [
       "str"
      ]
     },
     "execution_count": 23,
     "metadata": {},
     "output_type": "execute_result"
    }
   ],
   "source": [
    "type(\"Hello World\")"
   ]
  },
  {
   "cell_type": "code",
   "execution_count": 24,
   "id": "00a63309",
   "metadata": {},
   "outputs": [
    {
     "data": {
      "text/plain": [
       "5"
      ]
     },
     "execution_count": 24,
     "metadata": {},
     "output_type": "execute_result"
    }
   ],
   "source": [
    "len('hello')"
   ]
  },
  {
   "cell_type": "code",
   "execution_count": 25,
   "id": "c0b60acd",
   "metadata": {},
   "outputs": [
    {
     "data": {
      "text/plain": [
       "11"
      ]
     },
     "execution_count": 25,
     "metadata": {},
     "output_type": "execute_result"
    }
   ],
   "source": [
    "len(\"Hello World\")"
   ]
  },
  {
   "cell_type": "code",
   "execution_count": 26,
   "id": "46f88dc0-6970-4229-a8ef-fa26699cf7f3",
   "metadata": {},
   "outputs": [
    {
     "data": {
      "text/plain": [
       "14"
      ]
     },
     "execution_count": 26,
     "metadata": {},
     "output_type": "execute_result"
    }
   ],
   "source": [
    "len(\"My name is ...\")"
   ]
  },
  {
   "cell_type": "markdown",
   "id": "22e24574-e310-4195-ba7d-f78dc3188911",
   "metadata": {},
   "source": [
    "In the cell below, type your full name and use the len() and type() functions to apply the prior cells above."
   ]
  },
  {
   "cell_type": "code",
   "execution_count": 27,
   "id": "47ad84bc-927e-4376-be7b-e6a53cc178c1",
   "metadata": {},
   "outputs": [],
   "source": [
    "#type your name and use the length and type functions "
   ]
  },
  {
   "cell_type": "markdown",
   "id": "1d1f0dfe-5818-4a41-b6ff-f449700ad692",
   "metadata": {},
   "source": [
    "**Important** \n",
    "\n",
    "Syntax specificities is very import when programming Strings. There is a distinct different between \"  \" and '  '.\n",
    "\n",
    "Note(s) \n",
    "\n",
    "- be consistent when using \"  \" and '  '\n",
    "- - a common mistake that is typically made is when strings will be code with \" and ending with ' and vice versa.\n",
    "  - both work essential te same\n",
    "  - I personally prefer that when I write my strings I use \"  \" because I think of a String as a literal quote or as if I am actually saying the string outloud\n",
    "- When using an apostrophy (') in the middle of a string, make sure to include a forward slash because if not, then the error will read as \"unterminated string literal\"\n",
    "- - this happens because if you have a ' in the middle of a \"  \", the machine will read it as an unclosed string within a string\n",
    "  - this is why the forward slash is necessary for the string\n",
    "\n",
    "Look at some examples below. "
   ]
  },
  {
   "cell_type": "code",
   "execution_count": 28,
   "id": "85337e84-8dba-4f77-9128-2b0e71109b46",
   "metadata": {},
   "outputs": [
    {
     "name": "stdout",
     "output_type": "stream",
     "text": [
      "this works\n",
      "this works too\n",
      "it's much easier to write it's this way\n",
      "but this way, it's possible to print out \"quotes from other people\"\n"
     ]
    }
   ],
   "source": [
    "print('this works') \n",
    "print(\"this works too\")\n",
    "print(\"it's much easier to write it's this way\") \n",
    "print('but this way, it\\'s possible to print out \"quotes from other people\"')"
   ]
  },
  {
   "cell_type": "markdown",
   "id": "6610ae1a-942d-4b6e-8f24-a566b5f7a09b",
   "metadata": {},
   "source": [
    "Below we will look at some of the differences between using \"  \" and using '  '\n",
    "\n"
   ]
  },
  {
   "cell_type": "code",
   "execution_count": 29,
   "id": "ef548e98-66b2-4da1-a4af-0b55c94a0a29",
   "metadata": {},
   "outputs": [
    {
     "name": "stdout",
     "output_type": "stream",
     "text": [
      "It's a great day\n"
     ]
    }
   ],
   "source": [
    "print(\"It's a great day\")"
   ]
  },
  {
   "cell_type": "code",
   "execution_count": 30,
   "id": "84ab3795-8f3f-45ec-a31d-84aa126d498e",
   "metadata": {},
   "outputs": [
    {
     "ename": "SyntaxError",
     "evalue": "invalid syntax (3997527435.py, line 1)",
     "output_type": "error",
     "traceback": [
      "\u001b[0;36m  Cell \u001b[0;32mIn[30], line 1\u001b[0;36m\u001b[0m\n\u001b[0;31m    print('It's a great day')\u001b[0m\n\u001b[0m              ^\u001b[0m\n\u001b[0;31mSyntaxError\u001b[0m\u001b[0;31m:\u001b[0m invalid syntax\n"
     ]
    }
   ],
   "source": [
    "print('It's a great day')"
   ]
  },
  {
   "cell_type": "markdown",
   "id": "e676ca86-2775-494a-9f9c-aba8d58e041f",
   "metadata": {},
   "source": [
    "The above cell does not work because the machine sees two strings, but one is left open while the other one is not. "
   ]
  },
  {
   "cell_type": "markdown",
   "id": "fb16d56a-72b0-4a48-ac93-ba4831e1705b",
   "metadata": {},
   "source": [
    "Here is an exmaple of puting a string within a string using quotes and apostrophies. "
   ]
  },
  {
   "cell_type": "code",
   "execution_count": 31,
   "id": "0d8bc4ca-b0d4-4d79-94f1-fddab56d15f1",
   "metadata": {},
   "outputs": [
    {
     "name": "stdout",
     "output_type": "stream",
     "text": [
      "She said \"Hello\"\n"
     ]
    }
   ],
   "source": [
    "print('She said \"Hello\"')"
   ]
  },
  {
   "cell_type": "markdown",
   "id": "b58f1334-6900-47a0-b787-ced5cb02f33c",
   "metadata": {},
   "source": [
    "The example below will not work because using two quotes back to back causes a break in the string, which makes \"Hello\" no longer a part of the initial string. "
   ]
  },
  {
   "cell_type": "code",
   "execution_count": 32,
   "id": "9888840a-c317-4c54-b65e-372d888fe9d8",
   "metadata": {},
   "outputs": [
    {
     "ename": "SyntaxError",
     "evalue": "invalid syntax (4042694816.py, line 1)",
     "output_type": "error",
     "traceback": [
      "\u001b[0;36m  Cell \u001b[0;32mIn[32], line 1\u001b[0;36m\u001b[0m\n\u001b[0;31m    print(\"She said \"Hello\"\")\u001b[0m\n\u001b[0m                     ^\u001b[0m\n\u001b[0;31mSyntaxError\u001b[0m\u001b[0;31m:\u001b[0m invalid syntax\n"
     ]
    }
   ],
   "source": [
    "print(\"She said \"Hello\"\")"
   ]
  },
  {
   "cell_type": "markdown",
   "id": "59977e71",
   "metadata": {},
   "source": [
    "## 2.3) Booleans"
   ]
  },
  {
   "cell_type": "markdown",
   "id": "b42e5a65",
   "metadata": {},
   "source": [
    "Boolean is a data type that has two possible outcomes: True or False. When establishing if something is True or False, case sensitivity matters. True and False must always be capitalized when coding. \n",
    "\n",
    "Look at the examples below. "
   ]
  },
  {
   "cell_type": "code",
   "execution_count": 33,
   "id": "9a7d2c18",
   "metadata": {},
   "outputs": [
    {
     "data": {
      "text/plain": [
       "bool"
      ]
     },
     "execution_count": 33,
     "metadata": {},
     "output_type": "execute_result"
    }
   ],
   "source": [
    "type(True)"
   ]
  },
  {
   "cell_type": "code",
   "execution_count": 34,
   "id": "9a702a5a-c7f8-4baf-8e0f-11ce23694704",
   "metadata": {},
   "outputs": [
    {
     "data": {
      "text/plain": [
       "bool"
      ]
     },
     "execution_count": 34,
     "metadata": {},
     "output_type": "execute_result"
    }
   ],
   "source": [
    "type(False)"
   ]
  },
  {
   "cell_type": "code",
   "execution_count": 35,
   "id": "6eb12ac8-2c2e-4180-8fcf-9bea359b04a7",
   "metadata": {},
   "outputs": [
    {
     "name": "stdout",
     "output_type": "stream",
     "text": [
      "True\n",
      "False\n"
     ]
    }
   ],
   "source": [
    "print(True) \n",
    "print(False)"
   ]
  },
  {
   "cell_type": "markdown",
   "id": "518a3e04-8352-4956-9a0a-2ab0826b24df",
   "metadata": {},
   "source": [
    "**Be careful**\n",
    "\n",
    "Capitalization matters with booleans. \n",
    "\n",
    "You must use True, not true, and False, not false.\n",
    "\n",
    "The cell below shows an example of the error you would get with no capitalization."
   ]
  },
  {
   "cell_type": "code",
   "execution_count": 36,
   "id": "07eb80f5-9912-45ba-b4d6-11d09eead99f",
   "metadata": {},
   "outputs": [
    {
     "ename": "NameError",
     "evalue": "name 'true' is not defined",
     "output_type": "error",
     "traceback": [
      "\u001b[0;31m---------------------------------------------------------------------------\u001b[0m",
      "\u001b[0;31mNameError\u001b[0m                                 Traceback (most recent call last)",
      "Cell \u001b[0;32mIn[36], line 1\u001b[0m\n\u001b[0;32m----> 1\u001b[0m \u001b[38;5;28mtype\u001b[39m(\u001b[43mtrue\u001b[49m)\n",
      "\u001b[0;31mNameError\u001b[0m: name 'true' is not defined"
     ]
    }
   ],
   "source": [
    "type(true)"
   ]
  },
  {
   "cell_type": "markdown",
   "id": "b884238e",
   "metadata": {},
   "source": [
    "# 3.0) Operations\n",
    "\n",
    "With operations in Python we are able to complete math operations on all kinds of data types (including Strings). "
   ]
  },
  {
   "cell_type": "markdown",
   "id": "b77be492",
   "metadata": {},
   "source": [
    "## 3.1) Basic operations with Numbers \n",
    "\n",
    "The simplest operations are addition, subraction, multiplication, and division as shown in the cells below."
   ]
  },
  {
   "cell_type": "code",
   "execution_count": 37,
   "id": "513a42e3",
   "metadata": {},
   "outputs": [
    {
     "data": {
      "text/plain": [
       "8"
      ]
     },
     "execution_count": 37,
     "metadata": {},
     "output_type": "execute_result"
    }
   ],
   "source": [
    "5+3"
   ]
  },
  {
   "cell_type": "code",
   "execution_count": 38,
   "id": "5f9fe5bb-aa88-453d-965d-a07bc21413c7",
   "metadata": {},
   "outputs": [
    {
     "data": {
      "text/plain": [
       "1"
      ]
     },
     "execution_count": 38,
     "metadata": {},
     "output_type": "execute_result"
    }
   ],
   "source": [
    "7-6"
   ]
  },
  {
   "cell_type": "code",
   "execution_count": 39,
   "id": "903ea8b0-b967-479a-a832-1c360bee8bad",
   "metadata": {},
   "outputs": [
    {
     "data": {
      "text/plain": [
       "18"
      ]
     },
     "execution_count": 39,
     "metadata": {},
     "output_type": "execute_result"
    }
   ],
   "source": [
    "#Note: multiplication uses an asterisk as the operation symbol, do not use an x for multiplication\n",
    "9*2 "
   ]
  },
  {
   "cell_type": "code",
   "execution_count": 40,
   "id": "3989a975-67ae-4ca1-b58f-7f2e3febe5a0",
   "metadata": {},
   "outputs": [
    {
     "data": {
      "text/plain": [
       "2.0"
      ]
     },
     "execution_count": 40,
     "metadata": {},
     "output_type": "execute_result"
    }
   ],
   "source": [
    "8/4"
   ]
  },
  {
   "cell_type": "markdown",
   "id": "451463d3-2e8b-482f-802f-c49cec94dac0",
   "metadata": {},
   "source": [
    "Here we will look at some additional operations such as exponential, remainders, and division rounds. "
   ]
  },
  {
   "cell_type": "code",
   "execution_count": 41,
   "id": "51643fb1-7101-41c0-a9a8-bf89393921da",
   "metadata": {},
   "outputs": [
    {
     "data": {
      "text/plain": [
       "8"
      ]
     },
     "execution_count": 41,
     "metadata": {},
     "output_type": "execute_result"
    }
   ],
   "source": [
    "# exponential operation: ** \n",
    "# The first number input is the base number, and the second number after the double asterisk is the exponential number \n",
    "# For example: 2 to the 3rd power is 8; see below \n",
    "2**3"
   ]
  },
  {
   "cell_type": "code",
   "execution_count": 44,
   "id": "350b56cd-3aaa-48f3-8d0b-8deddd99f5e6",
   "metadata": {},
   "outputs": [
    {
     "data": {
      "text/plain": [
       "2"
      ]
     },
     "execution_count": 44,
     "metadata": {},
     "output_type": "execute_result"
    }
   ],
   "source": [
    "#Division floor: //\n",
    "#this operation outputs how many times one number goes into another (with no remainder) \n",
    "# for example: if you divide 18 into groups of 7, you can get two full groups.\n",
    "18//7"
   ]
  },
  {
   "cell_type": "code",
   "execution_count": 46,
   "id": "7b71401a-44fd-4739-92c9-f4d94fe58459",
   "metadata": {},
   "outputs": [
    {
     "data": {
      "text/plain": [
       "4"
      ]
     },
     "execution_count": 46,
     "metadata": {},
     "output_type": "execute_result"
    }
   ],
   "source": [
    "# Remainder operation: %\n",
    "# This function outputs the remainder of an equation \n",
    "# For example: divide 18 by 7 has a remainder of 4\n",
    "18%7"
   ]
  },
  {
   "cell_type": "markdown",
   "id": "dc8166fb-aa0b-4cd3-b484-c7fd9da9ca47",
   "metadata": {},
   "source": [
    "## 3.2) Assignment operators "
   ]
  },
  {
   "cell_type": "markdown",
   "id": "36e1a8c9-1862-47ee-b089-3b70b27baae6",
   "metadata": {},
   "source": [
    "Python provides powerful tools for performing mathematical operations. In this section we will explore basic arithmitic and more. Basic number operations work the same way as if you were to write them down or use them in math class, the only exception to this rule is the multiplication operation which is coded using an askkrisk (*). \n",
    "\n",
    "See for more info\n",
    "https://www.w3schools.com/python/python_operators.asp"
   ]
  },
  {
   "cell_type": "markdown",
   "id": "d6068ecc-918e-4ba2-b202-a39316557d11",
   "metadata": {},
   "source": [
    "Naming variables is really easy. \n",
    "\n",
    "variable_name = variable value\n",
    "\n",
    "Look at some examples below. "
   ]
  },
  {
   "cell_type": "markdown",
   "id": "65e69fc5-67a7-4af0-a3df-96f1fab13f3f",
   "metadata": {},
   "source": [
    "<font color=\"red\" >**EXTREMELY IMPORTANT NOTE ** </font>\n",
    "\n",
    "When declaring variables, make sure to not name your variable a predefined function name. The machine will get confused and will have the predefined function act as the variable you named it. \n",
    "\n",
    "<font color=\"red\" >** So do not use a statement such as**</font> <font color=\"blue\" > print = 3  </font>\n",
    "\n",
    "If you do, print will no longer work as a function!!!!"
   ]
  },
  {
   "cell_type": "code",
   "execution_count": 47,
   "id": "112de901-9826-4546-9097-52554fcddbe7",
   "metadata": {},
   "outputs": [
    {
     "data": {
      "text/plain": [
       "3"
      ]
     },
     "execution_count": 47,
     "metadata": {},
     "output_type": "execute_result"
    }
   ],
   "source": [
    "x = 3\n",
    "x"
   ]
  },
  {
   "cell_type": "code",
   "execution_count": 48,
   "id": "2ad1e0e8-3a60-4228-9d84-3617e69534c4",
   "metadata": {},
   "outputs": [
    {
     "data": {
      "text/plain": [
       "4"
      ]
     },
     "execution_count": 48,
     "metadata": {},
     "output_type": "execute_result"
    }
   ],
   "source": [
    "y=4\n",
    "y"
   ]
  },
  {
   "cell_type": "markdown",
   "id": "4b9dec25-14fb-48f9-a09d-f73af0e46d72",
   "metadata": {},
   "source": [
    "You can then use the variable_name with the print functions and with operations."
   ]
  },
  {
   "cell_type": "code",
   "execution_count": 49,
   "id": "df6bbccd-dda3-48d9-881d-10d563b0ceb4",
   "metadata": {},
   "outputs": [
    {
     "name": "stdout",
     "output_type": "stream",
     "text": [
      "3\n",
      "4\n"
     ]
    }
   ],
   "source": [
    "print(x)\n",
    "print(y)"
   ]
  },
  {
   "cell_type": "code",
   "execution_count": 50,
   "id": "2b3e3f65-7e90-4c0b-aa86-6561bb62d61a",
   "metadata": {},
   "outputs": [
    {
     "data": {
      "text/plain": [
       "7"
      ]
     },
     "execution_count": 50,
     "metadata": {},
     "output_type": "execute_result"
    }
   ],
   "source": [
    "k = x+y\n",
    "k"
   ]
  },
  {
   "cell_type": "code",
   "execution_count": 51,
   "id": "3d606ef3-d85c-44b6-a82c-c234a5321eac",
   "metadata": {},
   "outputs": [
    {
     "name": "stdout",
     "output_type": "stream",
     "text": [
      "45 Hey y'all 7 5.0\n"
     ]
    }
   ],
   "source": [
    "my_variable = 45\n",
    "my_string = \"Hey y'all\"\n",
    "my_int = 7\n",
    "my_flt = 5.0\n",
    "print(my_variable, my_string, my_int, my_flt)"
   ]
  },
  {
   "cell_type": "code",
   "execution_count": 52,
   "id": "8bc4f318-488d-45a7-a145-8a5a64825b8f",
   "metadata": {},
   "outputs": [
    {
     "name": "stdout",
     "output_type": "stream",
     "text": [
      "12.0\n"
     ]
    }
   ],
   "source": [
    "print(my_flt + my_int)"
   ]
  },
  {
   "cell_type": "code",
   "execution_count": 53,
   "id": "f82ac942",
   "metadata": {},
   "outputs": [
    {
     "name": "stdout",
     "output_type": "stream",
     "text": [
      "1\n",
      "a =  1\n",
      "2\n",
      "2\n",
      "2\n"
     ]
    }
   ],
   "source": [
    "a = 1\n",
    "print(a)\n",
    "print('a = ',a)\n",
    "b = 2\n",
    "print(b)\n",
    "a = b\n",
    "print(a)\n",
    "print(b)"
   ]
  },
  {
   "cell_type": "markdown",
   "id": "bfef2d26-3380-447c-96aa-637a3f09e248",
   "metadata": {},
   "source": [
    "Try and read the next code and guess what the output will be to test whether or not you're able to follow along. "
   ]
  },
  {
   "cell_type": "code",
   "execution_count": 54,
   "id": "3e976c8d-d1a3-4da5-adb9-1b63aca03ac2",
   "metadata": {},
   "outputs": [
    {
     "name": "stdout",
     "output_type": "stream",
     "text": [
      "3 4 6\n",
      "6 3 9\n"
     ]
    }
   ],
   "source": [
    "a = 3 \n",
    "b = 4 \n",
    "c = 6 \n",
    "print (a, b, c)\n",
    "b = a\n",
    "a = c \n",
    "c= 9  \n",
    "print(a,b,c)"
   ]
  },
  {
   "cell_type": "markdown",
   "id": "18fb8393-2933-4d03-aa7b-40a12cab7e14",
   "metadata": {},
   "source": [
    "## 3.3) Comparison operators (Boolean)"
   ]
  },
  {
   "cell_type": "markdown",
   "id": "c4bb10f6-565f-4eb7-9de6-e3a33e16497a",
   "metadata": {},
   "source": [
    "Here we will talk about comparison operators. \n",
    "Comparison operators include equal to, less and less than or equal to, greater and greater than or equal to. \n",
    "The output for these functions is a True or False (boolean data type). "
   ]
  },
  {
   "cell_type": "markdown",
   "id": "6f1169ac-50e1-47e5-adbc-6b3fa6b774da",
   "metadata": {},
   "source": [
    "When using the equal to function, it needs to be two equal signs and not just one.\n",
    "\n",
    "Remember; one equal sign is used to define a variable; two are used to determine whether or not one value is equal to another. "
   ]
  },
  {
   "cell_type": "code",
   "execution_count": 55,
   "id": "77ba9d3c-6960-437d-ab9e-ff8f8e38f591",
   "metadata": {},
   "outputs": [
    {
     "data": {
      "text/plain": [
       "False"
      ]
     },
     "execution_count": 55,
     "metadata": {},
     "output_type": "execute_result"
    }
   ],
   "source": [
    "5==6"
   ]
  },
  {
   "cell_type": "code",
   "execution_count": 56,
   "id": "07dbbf40-1204-4e9d-a2cf-29e725142ebe",
   "metadata": {},
   "outputs": [
    {
     "data": {
      "text/plain": [
       "True"
      ]
     },
     "execution_count": 56,
     "metadata": {},
     "output_type": "execute_result"
    }
   ],
   "source": [
    "5==5"
   ]
  },
  {
   "cell_type": "markdown",
   "id": "8f8ffa79-a769-4d12-83f4-72d1a1dd466c",
   "metadata": {},
   "source": [
    "When using the inequality function, remember to put the function in the order that you would say it. \n",
    "For example, greater than or equal to: >=\n",
    "See some examples below. "
   ]
  },
  {
   "cell_type": "code",
   "execution_count": 57,
   "id": "c34c27e0-4e3b-4e80-b76a-77c1beb62599",
   "metadata": {},
   "outputs": [
    {
     "data": {
      "text/plain": [
       "False"
      ]
     },
     "execution_count": 57,
     "metadata": {},
     "output_type": "execute_result"
    }
   ],
   "source": [
    "6>7"
   ]
  },
  {
   "cell_type": "code",
   "execution_count": 58,
   "id": "cf75b092-c46e-4a4e-be20-7bb703ac841c",
   "metadata": {},
   "outputs": [
    {
     "data": {
      "text/plain": [
       "True"
      ]
     },
     "execution_count": 58,
     "metadata": {},
     "output_type": "execute_result"
    }
   ],
   "source": [
    "9>3"
   ]
  },
  {
   "cell_type": "code",
   "execution_count": 59,
   "id": "a69a3de6-0692-4c25-850a-d6c02cc5c44b",
   "metadata": {},
   "outputs": [
    {
     "data": {
      "text/plain": [
       "True"
      ]
     },
     "execution_count": 59,
     "metadata": {},
     "output_type": "execute_result"
    }
   ],
   "source": [
    "6>=6"
   ]
  },
  {
   "cell_type": "code",
   "execution_count": 60,
   "id": "5667b35f-f60e-4200-815e-e7b148bccc86",
   "metadata": {},
   "outputs": [
    {
     "data": {
      "text/plain": [
       "False"
      ]
     },
     "execution_count": 60,
     "metadata": {},
     "output_type": "execute_result"
    }
   ],
   "source": [
    "6>=8"
   ]
  },
  {
   "cell_type": "code",
   "execution_count": 61,
   "id": "7035585f-9855-4db7-ac90-bb2c2e3998b9",
   "metadata": {},
   "outputs": [
    {
     "data": {
      "text/plain": [
       "False"
      ]
     },
     "execution_count": 61,
     "metadata": {},
     "output_type": "execute_result"
    }
   ],
   "source": [
    "3<=2"
   ]
  },
  {
   "cell_type": "code",
   "execution_count": 62,
   "id": "eeafd4af-48a3-455f-9b23-fc9bd693b50c",
   "metadata": {},
   "outputs": [
    {
     "data": {
      "text/plain": [
       "True"
      ]
     },
     "execution_count": 62,
     "metadata": {},
     "output_type": "execute_result"
    }
   ],
   "source": [
    "3>=2"
   ]
  },
  {
   "cell_type": "markdown",
   "id": "ae813012",
   "metadata": {},
   "source": [
    "## 3.4) Operations on strings"
   ]
  },
  {
   "cell_type": "markdown",
   "id": "dd7ddf18-d3a4-4aa7-b9bc-f5a559fb7e7f",
   "metadata": {},
   "source": [
    "Many different operations can be done outside of just numbers; operations can be done on strings as well (but not in the same capacity). "
   ]
  },
  {
   "cell_type": "markdown",
   "id": "be657498-3ff1-470b-9730-d1b5e50bcb7b",
   "metadata": {},
   "source": [
    "**Concatenation** is the function that allows you to combine two strings together using the '+' operator. "
   ]
  },
  {
   "cell_type": "code",
   "execution_count": 63,
   "id": "8289d74d",
   "metadata": {},
   "outputs": [
    {
     "data": {
      "text/plain": [
       "'Hello World'"
      ]
     },
     "execution_count": 63,
     "metadata": {},
     "output_type": "execute_result"
    }
   ],
   "source": [
    "str1 = \"Hello\" \n",
    "str2 = 'World' \n",
    "#had to define both strings into different variables \n",
    "result = str1 + \" \" + str2\n",
    "result"
   ]
  },
  {
   "cell_type": "markdown",
   "id": "95c1c520-8012-43d0-9677-038cb6cfe681",
   "metadata": {},
   "source": [
    "Notice the space \" \" in the middle of the result code. \n",
    "This space is not always needed when adding two strings together to piece a sentence together. \n",
    "Look and see what happens when I add the two strings together without a space "
   ]
  },
  {
   "cell_type": "code",
   "execution_count": 64,
   "id": "ddba0b6c-dfa5-4782-882b-cf5c1bf0a0fb",
   "metadata": {},
   "outputs": [
    {
     "data": {
      "text/plain": [
       "'HelloWorld'"
      ]
     },
     "execution_count": 64,
     "metadata": {},
     "output_type": "execute_result"
    }
   ],
   "source": [
    "result = str1 + str2\n",
    "result"
   ]
  },
  {
   "cell_type": "markdown",
   "id": "757ebf04-f720-4aae-9fc7-65f67916ecf5",
   "metadata": {},
   "source": [
    "You are also able to add strings with in another string without need the plus sign. Look the example below. They both print the same thing using two different methods. They both use format holders which allows you to add in a string within another string. "
   ]
  },
  {
   "cell_type": "code",
   "execution_count": 65,
   "id": "1ea11e1c-ed85-4052-aa65-cf34289e50a4",
   "metadata": {},
   "outputs": [
    {
     "name": "stdout",
     "output_type": "stream",
     "text": [
      "My name is Alice and I am 30 years old.\n",
      "My name is Alice and I am 30 years old.\n"
     ]
    }
   ],
   "source": [
    "name = \"Alice\"\n",
    "age = 30\n",
    "\n",
    "# This one uses holders {} for the string variables inside the larger string statement.\n",
    "print(f\"My name is {name} and I am {age} years old.\")\n",
    "# Output: My name is Alice and I am 30 years old.\n",
    "\n",
    "# This one uses a more complicated .format method that will be explored in greater detail in a future tutorial.\n",
    "print(\"My name is {} and I am {} years old.\".format(name, age))\n",
    "# Output: My name is Alice and I am 30 years old.\n",
    "\n"
   ]
  },
  {
   "cell_type": "markdown",
   "id": "2fff4414-8cf0-4694-b1b3-16a6278ee69c",
   "metadata": {},
   "source": [
    "Repetition is another way that strings can be added to one another. \n",
    "You can use the * operator to repeat specific strings, but be careful when doing so. \n",
    "Look at some of the different ways below that strings can be repeated."
   ]
  },
  {
   "cell_type": "code",
   "execution_count": 70,
   "id": "8b7909aa",
   "metadata": {},
   "outputs": [
    {
     "name": "stdout",
     "output_type": "stream",
     "text": [
      "hellohellohello\n",
      "hellohellohellohello\n"
     ]
    }
   ],
   "source": [
    "#this method repeats the strings with no spaces. \n",
    "print(\"hello\"*3)\n",
    "\n",
    "#you can also use variables for the string and/or the number\n",
    "str3 = \"hello\"\n",
    "number = 4\n",
    "str4 = str3*number\n",
    "print(str4)"
   ]
  },
  {
   "cell_type": "markdown",
   "id": "2db53d33-b23e-4ab7-989a-3199c6fbef5a",
   "metadata": {},
   "source": [
    "**Disallowed operations**\n",
    "\n",
    "There are some String operations that are not allowed in python like division and subtraction. See below what happens if I try to subract or divide a string using the operations. "
   ]
  },
  {
   "cell_type": "code",
   "execution_count": 75,
   "id": "62d0c677-2b93-4d71-aab1-44c5b806cdc0",
   "metadata": {},
   "outputs": [
    {
     "ename": "TypeError",
     "evalue": "unsupported operand type(s) for -: 'str' and 'str'",
     "output_type": "error",
     "traceback": [
      "\u001b[0;31m---------------------------------------------------------------------------\u001b[0m",
      "\u001b[0;31mTypeError\u001b[0m                                 Traceback (most recent call last)",
      "Cell \u001b[0;32mIn[75], line 2\u001b[0m\n\u001b[1;32m      1\u001b[0m \u001b[38;5;66;03m# This one will give a Type Error\u001b[39;00m\n\u001b[0;32m----> 2\u001b[0m \u001b[38;5;28mprint\u001b[39m(\u001b[43mstr1\u001b[49m\u001b[43m \u001b[49m\u001b[38;5;241;43m-\u001b[39;49m\u001b[43m \u001b[49m\u001b[43mstr2\u001b[49m)\n",
      "\u001b[0;31mTypeError\u001b[0m: unsupported operand type(s) for -: 'str' and 'str'"
     ]
    }
   ],
   "source": [
    "# This one will give a Type Error\n",
    "print(str1 - str2)"
   ]
  },
  {
   "cell_type": "code",
   "execution_count": 76,
   "id": "f6590798-d153-4456-8de6-e187ae5b0b4c",
   "metadata": {},
   "outputs": [
    {
     "ename": "TypeError",
     "evalue": "unsupported operand type(s) for -: 'str' and 'str'",
     "output_type": "error",
     "traceback": [
      "\u001b[0;31m---------------------------------------------------------------------------\u001b[0m",
      "\u001b[0;31mTypeError\u001b[0m                                 Traceback (most recent call last)",
      "Cell \u001b[0;32mIn[76], line 2\u001b[0m\n\u001b[1;32m      1\u001b[0m \u001b[38;5;66;03m# You still get a Type Error even if the second string is a part of the first string\u001b[39;00m\n\u001b[0;32m----> 2\u001b[0m \u001b[38;5;28mprint\u001b[39m(\u001b[43mstr4\u001b[49m\u001b[38;5;241;43m-\u001b[39;49m\u001b[43mstr3\u001b[49m)\n",
      "\u001b[0;31mTypeError\u001b[0m: unsupported operand type(s) for -: 'str' and 'str'"
     ]
    }
   ],
   "source": [
    "# You still get a Type Error even if the second string is a part of the first string\n",
    "print(str4-str3)"
   ]
  },
  {
   "cell_type": "code",
   "execution_count": 77,
   "id": "addb3b1c-057c-4136-bf73-040845cc6468",
   "metadata": {},
   "outputs": [
    {
     "ename": "TypeError",
     "evalue": "unsupported operand type(s) for /: 'str' and 'int'",
     "output_type": "error",
     "traceback": [
      "\u001b[0;31m---------------------------------------------------------------------------\u001b[0m",
      "\u001b[0;31mTypeError\u001b[0m                                 Traceback (most recent call last)",
      "Cell \u001b[0;32mIn[77], line 2\u001b[0m\n\u001b[1;32m      1\u001b[0m \u001b[38;5;66;03m# This one will give a Type Error\u001b[39;00m\n\u001b[0;32m----> 2\u001b[0m \u001b[38;5;28mprint\u001b[39m(\u001b[43mstr4\u001b[49m\u001b[38;5;241;43m/\u001b[39;49m\u001b[43mnumber\u001b[49m)\n",
      "\u001b[0;31mTypeError\u001b[0m: unsupported operand type(s) for /: 'str' and 'int'"
     ]
    }
   ],
   "source": [
    "# This one will give a Type Error\n",
    "print(str4/number)"
   ]
  },
  {
   "cell_type": "markdown",
   "id": "e84735e5-84a8-4335-b518-7356ba23b08a",
   "metadata": {},
   "source": [
    "There are ways to split a string or remove a portion of the string, but it cannot be done with simple mathematical operations. We will cover how to do these in Tutorial 1b."
   ]
  },
  {
   "cell_type": "markdown",
   "id": "ddc24881-8a8e-4425-917a-0ba73bb7b6c7",
   "metadata": {},
   "source": [
    "## 3.5) Operations between types"
   ]
  },
  {
   "cell_type": "markdown",
   "id": "243d0620-903c-43ea-9731-690dc7179ba2",
   "metadata": {},
   "source": [
    "But, understand that combining all data types will not always work. Uncomment some of the cells below and see what happens when you combine some data types and see what the type() function does. "
   ]
  },
  {
   "cell_type": "code",
   "execution_count": 78,
   "id": "68ff1180-0dfc-4412-b8df-d7899ea5488b",
   "metadata": {},
   "outputs": [
    {
     "ename": "TypeError",
     "evalue": "unsupported operand type(s) for +: 'int' and 'str'",
     "output_type": "error",
     "traceback": [
      "\u001b[0;31m---------------------------------------------------------------------------\u001b[0m",
      "\u001b[0;31mTypeError\u001b[0m                                 Traceback (most recent call last)",
      "Cell \u001b[0;32mIn[78], line 2\u001b[0m\n\u001b[1;32m      1\u001b[0m \u001b[38;5;66;03m#uncomment the line line below by removing the # character at the start of the line, then execute.\u001b[39;00m\n\u001b[0;32m----> 2\u001b[0m \u001b[38;5;28mtype\u001b[39m(\u001b[38;5;241;43m1\u001b[39;49m\u001b[38;5;241;43m+\u001b[39;49m\u001b[38;5;124;43m'\u001b[39;49m\u001b[38;5;124;43mhello world\u001b[39;49m\u001b[38;5;124;43m'\u001b[39;49m)\n",
      "\u001b[0;31mTypeError\u001b[0m: unsupported operand type(s) for +: 'int' and 'str'"
     ]
    }
   ],
   "source": [
    "#This will give you a Type Error\n",
    "type(1+'hello world')"
   ]
  },
  {
   "cell_type": "markdown",
   "id": "3c9f56bd-cf70-4408-96be-5d1faa49116f",
   "metadata": {},
   "source": [
    "The above cell does not work because Python does not know how to convert string types to a numerical value. Thus, the combination of an integer and a string does not work, unless you convert the integer to a string. "
   ]
  },
  {
   "cell_type": "code",
   "execution_count": 79,
   "id": "76fb3a7a-c631-40f4-bdce-33b65de53d34",
   "metadata": {},
   "outputs": [
    {
     "data": {
      "text/plain": [
       "int"
      ]
     },
     "execution_count": 79,
     "metadata": {},
     "output_type": "execute_result"
    }
   ],
   "source": [
    "type(True + 1)"
   ]
  },
  {
   "cell_type": "markdown",
   "id": "5d84dace-721d-48fb-993a-6f766371a3e4",
   "metadata": {},
   "source": [
    "The above cell does work because Booleans have a value of either 0 or 1. Therefore, we are able to combine integers with a boolean expression. "
   ]
  },
  {
   "cell_type": "code",
   "execution_count": 80,
   "id": "fb8fc642-dd7f-4bf5-8367-8e737c83da4b",
   "metadata": {},
   "outputs": [
    {
     "ename": "TypeError",
     "evalue": "unsupported operand type(s) for +: 'bool' and 'str'",
     "output_type": "error",
     "traceback": [
      "\u001b[0;31m---------------------------------------------------------------------------\u001b[0m",
      "\u001b[0;31mTypeError\u001b[0m                                 Traceback (most recent call last)",
      "Cell \u001b[0;32mIn[80], line 1\u001b[0m\n\u001b[0;32m----> 1\u001b[0m \u001b[38;5;28mtype\u001b[39m(\u001b[38;5;28;43;01mTrue\u001b[39;49;00m\u001b[43m \u001b[49m\u001b[38;5;241;43m+\u001b[39;49m\u001b[43m \u001b[49m\u001b[38;5;124;43m'\u001b[39;49m\u001b[38;5;124;43mHello World\u001b[39;49m\u001b[38;5;124;43m'\u001b[39;49m)\n",
      "\u001b[0;31mTypeError\u001b[0m: unsupported operand type(s) for +: 'bool' and 'str'"
     ]
    }
   ],
   "source": [
    "type(True + 'Hello World')"
   ]
  },
  {
   "cell_type": "markdown",
   "id": "43b18947-13bf-43ec-87c2-ba06a82c2005",
   "metadata": {},
   "source": [
    "The above cell does not work because it is the same case as the first cell. Booleans have a value of 0 or 1, and strings have no numerical value assigned to it. so we are unable to combine a boolena expression with a string. "
   ]
  },
  {
   "cell_type": "code",
   "execution_count": 81,
   "id": "730af67a-50a8-4e0d-9c8a-6d5ed4bbf41f",
   "metadata": {},
   "outputs": [
    {
     "data": {
      "text/plain": [
       "float"
      ]
     },
     "execution_count": 81,
     "metadata": {},
     "output_type": "execute_result"
    }
   ],
   "source": [
    "type(False + 1.22222222222)"
   ]
  },
  {
   "cell_type": "markdown",
   "id": "0606e431-c551-4b6c-be4c-1181e0d72ddd",
   "metadata": {
    "jp-MarkdownHeadingCollapsed": true
   },
   "source": [
    "The above cell does work because Booleans have an assigned numerical value to them, and floats are numbers. So combining an boolean with a float produces a float type piece of data. "
   ]
  },
  {
   "cell_type": "markdown",
   "id": "84605dbf",
   "metadata": {},
   "source": [
    "# 4.0) Type Conversions"
   ]
  },
  {
   "cell_type": "markdown",
   "id": "f549ed07-5fce-4c75-883d-386dfdb0bafa",
   "metadata": {},
   "source": [
    "Type conversions are actually really easy once you get started. Follow along as we take you through int, flt, and str converstions. These can be done with values or with assigned variable names"
   ]
  },
  {
   "cell_type": "markdown",
   "id": "e8aa8bcd-1818-4e51-bd1e-1811597c1db5",
   "metadata": {},
   "source": [
    "## 4.1) to String \n",
    "\n",
    "All of the types we have talked about so far can be converted to strings."
   ]
  },
  {
   "cell_type": "code",
   "execution_count": 82,
   "id": "668760fb-16df-4daa-a325-5af016cca8cf",
   "metadata": {},
   "outputs": [
    {
     "data": {
      "text/plain": [
       "'5'"
      ]
     },
     "execution_count": 82,
     "metadata": {},
     "output_type": "execute_result"
    }
   ],
   "source": [
    "# int to str \n",
    "str(5)"
   ]
  },
  {
   "cell_type": "code",
   "execution_count": 84,
   "id": "abe73f71-734b-413d-a20b-772413fdfaba",
   "metadata": {},
   "outputs": [
    {
     "data": {
      "text/plain": [
       "'42.0'"
      ]
     },
     "execution_count": 84,
     "metadata": {},
     "output_type": "execute_result"
    }
   ],
   "source": [
    "# flt to str (uncomment the last line and run the cell\n",
    "num = 42.0 \n",
    "str(num)"
   ]
  },
  {
   "cell_type": "code",
   "execution_count": 85,
   "id": "d30fbe57-a29a-4ec3-b979-ea7f1ed4308a",
   "metadata": {},
   "outputs": [
    {
     "data": {
      "text/plain": [
       "'True'"
      ]
     },
     "execution_count": 85,
     "metadata": {},
     "output_type": "execute_result"
    }
   ],
   "source": [
    "# bool to str \n",
    "str(True)"
   ]
  },
  {
   "cell_type": "code",
   "execution_count": 90,
   "id": "650244e5-b48b-40bd-9acb-257b6d1ce2cb",
   "metadata": {},
   "outputs": [
    {
     "name": "stdout",
     "output_type": "stream",
     "text": [
      "variable a is of type:  <class 'int'>\n",
      "variable b is of type:  <class 'str'>\n"
     ]
    }
   ],
   "source": [
    "a = 1\n",
    "b = str(a)\n",
    "print(\"variable a is of type: \",type(a))\n",
    "print(\"variable b is of type: \",type(b))"
   ]
  },
  {
   "cell_type": "markdown",
   "id": "4f93ab45-a6a6-4d2a-9e36-66ca9197e789",
   "metadata": {},
   "source": [
    "## 4.2) to float\n",
    "\n",
    "Integers and booleans can always be converted to floats.\n",
    "\n",
    "Some strings can be converted to floats but only if the values in the string are all numbers."
   ]
  },
  {
   "cell_type": "code",
   "execution_count": 94,
   "id": "0eebc464-393d-4f03-88bd-a4dc87fded0a",
   "metadata": {},
   "outputs": [
    {
     "name": "stdout",
     "output_type": "stream",
     "text": [
      "variable a is  36  of type:  <class 'int'>\n",
      "variable b is  36.0  of type:  <class 'float'>\n"
     ]
    }
   ],
   "source": [
    "#int to flt\n",
    "a = 36\n",
    "b = float(a)\n",
    "print(\"variable a is \",a,\" of type: \",type(a))\n",
    "print(\"variable b is \",b,\" of type: \",type(b))\n"
   ]
  },
  {
   "cell_type": "code",
   "execution_count": 95,
   "id": "7e7bd26b-2921-4edc-901c-0016f67d07a2",
   "metadata": {},
   "outputs": [
    {
     "data": {
      "text/plain": [
       "1.0"
      ]
     },
     "execution_count": 95,
     "metadata": {},
     "output_type": "execute_result"
    }
   ],
   "source": [
    "#bool to flt\n",
    "float(True)"
   ]
  },
  {
   "cell_type": "code",
   "execution_count": 96,
   "id": "363ed4ae-88a1-4ffe-a479-0a0a0229fcfe",
   "metadata": {},
   "outputs": [
    {
     "data": {
      "text/plain": [
       "0.0"
      ]
     },
     "execution_count": 96,
     "metadata": {},
     "output_type": "execute_result"
    }
   ],
   "source": [
    "#bool to flt \n",
    "float(False)"
   ]
  },
  {
   "cell_type": "code",
   "execution_count": 97,
   "id": "0a1c301e-8a52-48b2-8e22-fcb1d4448fd3",
   "metadata": {},
   "outputs": [
    {
     "data": {
      "text/plain": [
       "36.0"
      ]
     },
     "execution_count": 97,
     "metadata": {},
     "output_type": "execute_result"
    }
   ],
   "source": [
    "#str to flt\n",
    "num = '36'\n",
    "float(num)"
   ]
  },
  {
   "cell_type": "code",
   "execution_count": 99,
   "id": "9bf4fb01-29b4-4653-a62e-361f59cea939",
   "metadata": {},
   "outputs": [
    {
     "data": {
      "text/plain": [
       "36.2"
      ]
     },
     "execution_count": 99,
     "metadata": {},
     "output_type": "execute_result"
    }
   ],
   "source": [
    "#str to flt\n",
    "float('36.2')"
   ]
  },
  {
   "cell_type": "code",
   "execution_count": 100,
   "id": "4b00677d-34f0-41c9-a3ce-95d3a499d972",
   "metadata": {},
   "outputs": [
    {
     "ename": "ValueError",
     "evalue": "could not convert string to float: 'hello'",
     "output_type": "error",
     "traceback": [
      "\u001b[0;31m---------------------------------------------------------------------------\u001b[0m",
      "\u001b[0;31mValueError\u001b[0m                                Traceback (most recent call last)",
      "Cell \u001b[0;32mIn[100], line 3\u001b[0m\n\u001b[1;32m      1\u001b[0m \u001b[38;5;66;03m#str to float \u001b[39;00m\n\u001b[1;32m      2\u001b[0m \u001b[38;5;66;03m#This will give you a ValueError\u001b[39;00m\n\u001b[0;32m----> 3\u001b[0m \u001b[38;5;28;43mfloat\u001b[39;49m\u001b[43m(\u001b[49m\u001b[38;5;124;43m\"\u001b[39;49m\u001b[38;5;124;43mhello\u001b[39;49m\u001b[38;5;124;43m\"\u001b[39;49m\u001b[43m)\u001b[49m\n",
      "\u001b[0;31mValueError\u001b[0m: could not convert string to float: 'hello'"
     ]
    }
   ],
   "source": [
    "#str to float \n",
    "#This will give you a ValueError\n",
    "float(\"hello\")"
   ]
  },
  {
   "cell_type": "markdown",
   "id": "d1bcf016-7564-40e1-94f0-0da2e928a9e5",
   "metadata": {},
   "source": [
    "The above cell does not work because strings that contain characters do not have an inherient numerical value. "
   ]
  },
  {
   "cell_type": "markdown",
   "id": "070f10b9-ebe2-4dcc-856c-539ef41b87d7",
   "metadata": {},
   "source": [
    "## 4.3) to int \n",
    "\n",
    "Booleans easily go into integers. Floats that are converted to integers will lose the decimal information. \n",
    "\n",
    "Again, some strings can go into integers but great care is needed."
   ]
  },
  {
   "cell_type": "code",
   "execution_count": 103,
   "id": "1ecf1e2a-9e5e-4519-976a-cf0be84b1f06",
   "metadata": {},
   "outputs": [
    {
     "name": "stdout",
     "output_type": "stream",
     "text": [
      "my float variable is  20.0  of type:  <class 'float'>\n",
      "my integer variable is  20  of type:  <class 'int'>\n"
     ]
    }
   ],
   "source": [
    "#flt to int\n",
    "my_flt = 20.0\n",
    "my_int = int(num)\n",
    "print(\"my float variable is \",my_flt,\" of type: \",type(my_flt))\n",
    "print(\"my integer variable is \",my_int,\" of type: \",type(my_int))"
   ]
  },
  {
   "cell_type": "code",
   "execution_count": 104,
   "id": "a4d54ac4-a20b-45f5-bfe0-e3ff09fc63b6",
   "metadata": {},
   "outputs": [
    {
     "name": "stdout",
     "output_type": "stream",
     "text": [
      "my float variable is  20.7  of type:  <class 'float'>\n",
      "my integer variable is  20  of type:  <class 'int'>\n"
     ]
    }
   ],
   "source": [
    "#flt to int\n",
    "my_flt = 20.7\n",
    "my_int = int(num)\n",
    "print(\"my float variable is \",my_flt,\" of type: \",type(my_flt))\n",
    "print(\"my integer variable is \",my_int,\" of type: \",type(my_int))"
   ]
  },
  {
   "cell_type": "code",
   "execution_count": 105,
   "id": "c565ee9a-244a-45db-9809-8b6173981aa5",
   "metadata": {},
   "outputs": [
    {
     "data": {
      "text/plain": [
       "1"
      ]
     },
     "execution_count": 105,
     "metadata": {},
     "output_type": "execute_result"
    }
   ],
   "source": [
    "#bool to int \n",
    "int(True)"
   ]
  },
  {
   "cell_type": "markdown",
   "id": "ff68b04d-b871-47a2-a82a-89aad394bce4",
   "metadata": {},
   "source": [
    "For strings, you can only convert directly strings which represent integers into integers. \n",
    "\n",
    "If you have a string which contains a decimal value, the conversion needs to have two steps. First convert the string into a float and then convert that float into an integer. This can be done in one line of code, but really has two steps."
   ]
  },
  {
   "cell_type": "code",
   "execution_count": 106,
   "id": "f8f03d8c-348b-478f-ad00-8296610cfa5d",
   "metadata": {},
   "outputs": [
    {
     "data": {
      "text/plain": [
       "42"
      ]
     },
     "execution_count": 106,
     "metadata": {},
     "output_type": "execute_result"
    }
   ],
   "source": [
    "#str to int\n",
    "int(\"42\")"
   ]
  },
  {
   "cell_type": "code",
   "execution_count": 110,
   "id": "33436402-b9ff-4f96-a7c1-1043d881f020",
   "metadata": {},
   "outputs": [
    {
     "ename": "ValueError",
     "evalue": "invalid literal for int() with base 10: '42.3'",
     "output_type": "error",
     "traceback": [
      "\u001b[0;31m---------------------------------------------------------------------------\u001b[0m",
      "\u001b[0;31mValueError\u001b[0m                                Traceback (most recent call last)",
      "Cell \u001b[0;32mIn[110], line 3\u001b[0m\n\u001b[1;32m      1\u001b[0m \u001b[38;5;66;03m#str to int\u001b[39;00m\n\u001b[1;32m      2\u001b[0m \u001b[38;5;66;03m#This gives a ValueError\u001b[39;00m\n\u001b[0;32m----> 3\u001b[0m \u001b[38;5;28;43mint\u001b[39;49m\u001b[43m(\u001b[49m\u001b[38;5;124;43m\"\u001b[39;49m\u001b[38;5;124;43m42.3\u001b[39;49m\u001b[38;5;124;43m\"\u001b[39;49m\u001b[43m)\u001b[49m\n",
      "\u001b[0;31mValueError\u001b[0m: invalid literal for int() with base 10: '42.3'"
     ]
    }
   ],
   "source": [
    "#str to int\n",
    "#This gives a ValueError\n",
    "int(\"42.3\")"
   ]
  },
  {
   "cell_type": "code",
   "execution_count": 111,
   "id": "6c02e5ba-a5a1-4db2-a294-390d074ffe8c",
   "metadata": {},
   "outputs": [
    {
     "data": {
      "text/plain": [
       "42"
      ]
     },
     "execution_count": 111,
     "metadata": {},
     "output_type": "execute_result"
    }
   ],
   "source": [
    "#str to int\n",
    "int(float(\"42.3\"))"
   ]
  },
  {
   "cell_type": "markdown",
   "id": "b6fa0748-c894-4825-b86a-7e644518e6b1",
   "metadata": {},
   "source": [
    "## 4.4) to Bool\n",
    "\n",
    "Numbers can also be converted into Booleans. \n",
    "\n",
    "The number zero will convert to a False value. This will happen if the zero value is an integer(0) or a float (0.0).\n",
    "\n",
    "Any other number will convert to a True value. "
   ]
  },
  {
   "cell_type": "code",
   "execution_count": 115,
   "id": "0c83d3d9-af5a-4aba-a40f-de65514653cc",
   "metadata": {},
   "outputs": [
    {
     "data": {
      "text/plain": [
       "False"
      ]
     },
     "execution_count": 115,
     "metadata": {},
     "output_type": "execute_result"
    }
   ],
   "source": [
    "#int to bool\n",
    "bool(0)"
   ]
  },
  {
   "cell_type": "code",
   "execution_count": 118,
   "id": "98a60d62-27d3-434e-b5c6-45f6ca7d30cc",
   "metadata": {},
   "outputs": [
    {
     "data": {
      "text/plain": [
       "False"
      ]
     },
     "execution_count": 118,
     "metadata": {},
     "output_type": "execute_result"
    }
   ],
   "source": [
    "bool(0.0)"
   ]
  },
  {
   "cell_type": "code",
   "execution_count": 114,
   "id": "843a1cf8-2ddf-443f-90c6-e13f2366632a",
   "metadata": {},
   "outputs": [
    {
     "data": {
      "text/plain": [
       "True"
      ]
     },
     "execution_count": 114,
     "metadata": {},
     "output_type": "execute_result"
    }
   ],
   "source": [
    "#int to bool\n",
    "bool(1)"
   ]
  },
  {
   "cell_type": "code",
   "execution_count": 112,
   "id": "4eedbe99-bb04-48c6-9834-5051f415fbd7",
   "metadata": {},
   "outputs": [
    {
     "data": {
      "text/plain": [
       "True"
      ]
     },
     "execution_count": 112,
     "metadata": {},
     "output_type": "execute_result"
    }
   ],
   "source": [
    "# int to bool\n",
    "bool(36)"
   ]
  },
  {
   "cell_type": "code",
   "execution_count": 113,
   "id": "5f9acf2c-8285-4048-a151-b4f0677e50cc",
   "metadata": {},
   "outputs": [
    {
     "data": {
      "text/plain": [
       "True"
      ]
     },
     "execution_count": 113,
     "metadata": {},
     "output_type": "execute_result"
    }
   ],
   "source": [
    "#float to bool \n",
    "bool(36.0)"
   ]
  },
  {
   "cell_type": "code",
   "execution_count": 116,
   "id": "36cecda9-69d1-43f9-a9d1-9feee3adf1b5",
   "metadata": {},
   "outputs": [
    {
     "data": {
      "text/plain": [
       "True"
      ]
     },
     "execution_count": 116,
     "metadata": {},
     "output_type": "execute_result"
    }
   ],
   "source": [
    "bool(-1)"
   ]
  },
  {
   "cell_type": "code",
   "execution_count": 117,
   "id": "3751bcc6-cf3b-47dd-995c-0221242f9270",
   "metadata": {},
   "outputs": [
    {
     "data": {
      "text/plain": [
       "True"
      ]
     },
     "execution_count": 117,
     "metadata": {},
     "output_type": "execute_result"
    }
   ],
   "source": [
    "bool(0.0000000001)"
   ]
  },
  {
   "cell_type": "markdown",
   "id": "89385a59-ef19-491b-94f2-2033c2fee716",
   "metadata": {},
   "source": [
    "Strings can also be converted to Boolean values, but not with the results you might expect. Try the examples below to see what happens."
   ]
  },
  {
   "cell_type": "code",
   "execution_count": 122,
   "id": "e5de6b7a-a57a-408f-a2d1-77c234f4535a",
   "metadata": {},
   "outputs": [
    {
     "data": {
      "text/plain": [
       "True"
      ]
     },
     "execution_count": 122,
     "metadata": {},
     "output_type": "execute_result"
    }
   ],
   "source": [
    "bool(\"True\")"
   ]
  },
  {
   "cell_type": "code",
   "execution_count": 123,
   "id": "61d85016-ada0-4e24-8d5c-bc961ca03665",
   "metadata": {},
   "outputs": [
    {
     "data": {
      "text/plain": [
       "True"
      ]
     },
     "execution_count": 123,
     "metadata": {},
     "output_type": "execute_result"
    }
   ],
   "source": [
    "bool(\"False\")"
   ]
  },
  {
   "cell_type": "code",
   "execution_count": 127,
   "id": "6ffa2eb0-b665-422c-9a41-cdd22da14f4c",
   "metadata": {},
   "outputs": [
    {
     "data": {
      "text/plain": [
       "True"
      ]
     },
     "execution_count": 127,
     "metadata": {},
     "output_type": "execute_result"
    }
   ],
   "source": [
    "bool(\"Hello\")"
   ]
  },
  {
   "cell_type": "code",
   "execution_count": 128,
   "id": "6158e9bb-a984-414b-aec7-45347761bcab",
   "metadata": {},
   "outputs": [
    {
     "data": {
      "text/plain": [
       "True"
      ]
     },
     "execution_count": 128,
     "metadata": {},
     "output_type": "execute_result"
    }
   ],
   "source": [
    "bool(\"5\")"
   ]
  },
  {
   "cell_type": "code",
   "execution_count": 129,
   "id": "5383a00e-36e9-413e-a318-52f3925b39b8",
   "metadata": {},
   "outputs": [
    {
     "data": {
      "text/plain": [
       "True"
      ]
     },
     "execution_count": 129,
     "metadata": {},
     "output_type": "execute_result"
    }
   ],
   "source": [
    "bool(\"0\")"
   ]
  },
  {
   "cell_type": "code",
   "execution_count": 130,
   "id": "4fa09eb9-ab4e-416b-9508-3e323f007a01",
   "metadata": {},
   "outputs": [
    {
     "data": {
      "text/plain": [
       "False"
      ]
     },
     "execution_count": 130,
     "metadata": {},
     "output_type": "execute_result"
    }
   ],
   "source": [
    "bool(\"\")"
   ]
  },
  {
   "cell_type": "markdown",
   "id": "5d8d5f32-7577-4bcd-a6f5-30352fd479b5",
   "metadata": {},
   "source": [
    "For strings, any non-empty string will convert to a True value.\n",
    "\n",
    "Only empty strings given by \"\" will convert as False. \n",
    "\n",
    "\n",
    "While this may seems confusing, the conversion here is checking to see if the string contains anything (yes, then it is True) or (no, then it is False). "
   ]
  },
  {
   "cell_type": "markdown",
   "id": "abb8146a",
   "metadata": {},
   "source": [
    "# 5.0) Numpy functions to do math \n",
    "\n",
    "\n",
    "\n",
    "Numpy the package we imported at the beginning of this tutorial has many different math functions, hence the name NumPy. Look at some examples below to see the power of NumPy. \n",
    "\n",
    "Note: NumPY will typically return a float data type. The data type may be listed as \"numpy.float64\" which is a float with higher decimal precision. Ways to specify the data type for numpy operations will be covered in future tutorials. "
   ]
  },
  {
   "cell_type": "markdown",
   "id": "64008daa-b521-4dfb-93f1-41758504744b",
   "metadata": {},
   "source": [
    "## 5.1) Common functions"
   ]
  },
  {
   "cell_type": "code",
   "execution_count": 133,
   "id": "86933e7e",
   "metadata": {},
   "outputs": [
    {
     "data": {
      "text/plain": [
       "5.0"
      ]
     },
     "execution_count": 133,
     "metadata": {},
     "output_type": "execute_result"
    }
   ],
   "source": [
    "#This one gives the square root\n",
    "np.sqrt(25)"
   ]
  },
  {
   "cell_type": "code",
   "execution_count": 134,
   "id": "5d8dc733",
   "metadata": {},
   "outputs": [
    {
     "name": "stdout",
     "output_type": "stream",
     "text": [
      "5.0\n",
      "<class 'numpy.float64'>\n"
     ]
    }
   ],
   "source": [
    "print(np.sqrt(25))\n",
    "print(type(np.sqrt(25)))"
   ]
  },
  {
   "cell_type": "code",
   "execution_count": 148,
   "id": "e2ae2e6b-39c6-4fd2-b52a-200845f60bdb",
   "metadata": {},
   "outputs": [
    {
     "name": "stdout",
     "output_type": "stream",
     "text": [
      "The square root of  3  is  1.7320508075688772\n"
     ]
    }
   ],
   "source": [
    "num=3\n",
    "print(\"The square root of \",num, \" is \", np.sqrt(num))"
   ]
  },
  {
   "cell_type": "code",
   "execution_count": 138,
   "id": "d6170c8b-ce4c-470b-ad2a-285f4e6af7e2",
   "metadata": {},
   "outputs": [
    {
     "data": {
      "text/plain": [
       "3.0"
      ]
     },
     "execution_count": 138,
     "metadata": {},
     "output_type": "execute_result"
    }
   ],
   "source": [
    "#This is log base 10\n",
    "np.log10(1000)"
   ]
  },
  {
   "cell_type": "code",
   "execution_count": 137,
   "id": "095e5cf0-3d68-48f5-aa68-df442c375558",
   "metadata": {},
   "outputs": [
    {
     "data": {
      "text/plain": [
       "2.718281828459045"
      ]
     },
     "execution_count": 137,
     "metadata": {},
     "output_type": "execute_result"
    }
   ],
   "source": [
    "#This is the exponential\n",
    "np.exp(1)"
   ]
  },
  {
   "cell_type": "markdown",
   "id": "bee9d87b-1fac-4445-97ca-d0d4c72f9e63",
   "metadata": {},
   "source": [
    "## 5.2) Trig \n",
    "Below are some of the trigonometric functions used by numpy.\n",
    "\n",
    "np.pi is a constant value stored in the numpy module\n",
    "\n",
    "The standard function assumes the angles are given in radians."
   ]
  },
  {
   "cell_type": "code",
   "execution_count": 140,
   "id": "c355d323-92a6-4d8d-b54f-f1c73a83c40e",
   "metadata": {},
   "outputs": [
    {
     "name": "stdout",
     "output_type": "stream",
     "text": [
      "angle:  0.5235987755982988\n",
      "Sine:  0.49999999999999994\n",
      "Cosine:  0.8660254037844387\n",
      "Tangent:  0.5773502691896257\n"
     ]
    }
   ],
   "source": [
    "angle = np.pi / 6\n",
    "print(\"angle: \", angle)\n",
    "print(\"Sine: \", np.sin(angle)) \n",
    "print(\"Cosine: \", np.cos(angle))\n",
    "print(\"Tangent: \", np.tan(angle))"
   ]
  },
  {
   "cell_type": "markdown",
   "id": "371b6298-2e97-444b-b619-94de9f3f5864",
   "metadata": {},
   "source": [
    "You can convert between angle units using numpy functions deg2rad and rad2deg"
   ]
  },
  {
   "cell_type": "code",
   "execution_count": 141,
   "id": "79e727b6-81ca-441b-aa77-ee42dbceab87",
   "metadata": {},
   "outputs": [
    {
     "name": "stdout",
     "output_type": "stream",
     "text": [
      "an angle of  60  degrees is equal to  1.0471975511965976  radians\n"
     ]
    }
   ],
   "source": [
    "angle_deg = 60\n",
    "angle_rad = np.deg2rad(angle_deg)\n",
    "print(\"an angle of \", angle_deg,\" degrees is equal to \", angle_rad,\" radians\")"
   ]
  },
  {
   "cell_type": "code",
   "execution_count": 142,
   "id": "f99724fc-27ed-4a17-bbb6-fe7145532223",
   "metadata": {},
   "outputs": [
    {
     "name": "stdout",
     "output_type": "stream",
     "text": [
      "an angle of  1.3  radians is equal to  74.48451336700703  degrees\n"
     ]
    }
   ],
   "source": [
    "angle_rad = 1.3\n",
    "angle_deg = np.rad2deg(angle_rad)\n",
    "print(\"an angle of \", angle_rad,\" radians is equal to \", angle_deg,\" degrees\")"
   ]
  },
  {
   "cell_type": "markdown",
   "id": "f57883b3-b744-4500-8abf-535f2a037672",
   "metadata": {},
   "source": [
    "## 5.3)Documentation for numpy\n",
    "\n",
    "You can use the python help() function to get more information on a particular numpy function (as demonstrated below). \n",
    "\n",
    "You can also find complete documentation of all numpy functions at <a href=\"https://numpy.org/doc/stable/reference/routines.math.html\"> https://numpy.org/doc/stable/reference/routines.math.html </a>"
   ]
  },
  {
   "cell_type": "code",
   "execution_count": 145,
   "id": "e073e1cd-0da9-4a2e-bab7-abbeff6abf85",
   "metadata": {},
   "outputs": [],
   "source": [
    "#uncomment the line below by removing the # symbol in front and then executing the cell\n",
    "\n",
    "#help(np.sqrt)"
   ]
  },
  {
   "cell_type": "markdown",
   "id": "4705a873",
   "metadata": {},
   "source": [
    "# Assignment\n",
    "\n",
    "\n",
    "To practice the concepts you learned in this tutorial, try the following exercises. Feel free to look back at the tutorial as you go. "
   ]
  },
  {
   "cell_type": "markdown",
   "id": "1bb3fa10-8b56-4eb6-80c0-cd310c1c40fa",
   "metadata": {},
   "source": [
    "## Excercise 1)\n",
    "\n",
    "* Assign 1 number each to the variables \"a\" and \"b\"\n",
    "* Predict the result of the following operations\n",
    "  * Add a and b\n",
    "  * Subtract a from b\n",
    "  * Calculate (a+b)/b\n",
    "  * Find the floor and remainder of that division\n",
    "* Write the code lines to do these calculations\n",
    "* Create a print statement for one of these calculations that includes text describing the calculation along with the result"
   ]
  },
  {
   "cell_type": "code",
   "execution_count": null,
   "id": "d04967a4",
   "metadata": {},
   "outputs": [],
   "source": [
    "# Enter your code below\n"
   ]
  },
  {
   "cell_type": "markdown",
   "id": "30f5408f-37e5-466b-8444-12a99bacf848",
   "metadata": {},
   "source": [
    "## Exercise 2) \n",
    "\n",
    "* Create a string variable with your name\n",
    "* Create an integer variable with any value you want\n",
    "* Convert the integer to a string\n",
    "* Create a new string variable that concatenates the name and number into a single string"
   ]
  },
  {
   "cell_type": "code",
   "execution_count": 147,
   "id": "36071f2c-bdcd-408e-8c14-ef83dc282173",
   "metadata": {},
   "outputs": [],
   "source": [
    "# Enter your code below\n"
   ]
  },
  {
   "cell_type": "markdown",
   "id": "f41751eb-3f6f-4696-b106-13ca8df24913",
   "metadata": {},
   "source": [
    "## Exercise 3)\n",
    "\n",
    "In Astronomy, we often work with spheres. Find the surface area of a sphere for a particular radius.\n",
    "* Define a variable for the radius using a value of your choice\n",
    "* Calculate the surface area of the star using the numpy pi constant and the numpy square function\n",
    "* Create a nice print statement to output your radius and area"
   ]
  },
  {
   "cell_type": "code",
   "execution_count": null,
   "id": "a58d8bcd-1f89-4baa-bcf7-140d67d0e86e",
   "metadata": {},
   "outputs": [],
   "source": [
    "#Enter your code below"
   ]
  }
 ],
 "metadata": {
  "kernelspec": {
   "display_name": "Python 3 (ipykernel)",
   "language": "python",
   "name": "python3"
  },
  "language_info": {
   "codemirror_mode": {
    "name": "ipython",
    "version": 3
   },
   "file_extension": ".py",
   "mimetype": "text/x-python",
   "name": "python",
   "nbconvert_exporter": "python",
   "pygments_lexer": "ipython3",
   "version": "3.9.19"
  }
 },
 "nbformat": 4,
 "nbformat_minor": 5
}
